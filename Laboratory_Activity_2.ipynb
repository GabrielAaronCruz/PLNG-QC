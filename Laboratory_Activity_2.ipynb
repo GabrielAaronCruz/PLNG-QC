{
  "nbformat": 4,
  "nbformat_minor": 0,
  "metadata": {
    "colab": {
      "provenance": [],
      "authorship_tag": "ABX9TyOoepA5fEaTDUZBfxfU4rOU",
      "include_colab_link": true
    },
    "kernelspec": {
      "name": "python3",
      "display_name": "Python 3"
    },
    "language_info": {
      "name": "python"
    }
  },
  "cells": [
    {
      "cell_type": "markdown",
      "metadata": {
        "id": "view-in-github",
        "colab_type": "text"
      },
      "source": [
        "<a href=\"https://colab.research.google.com/github/GabrielAaronCruz/PLNG-QC/blob/main/Laboratory_Activity_2.ipynb\" target=\"_parent\"><img src=\"https://colab.research.google.com/assets/colab-badge.svg\" alt=\"Open In Colab\"/></a>"
      ]
    },
    {
      "cell_type": "code",
      "execution_count": 6,
      "metadata": {
        "colab": {
          "base_uri": "https://localhost:8080/"
        },
        "id": "bU8KSS6K4AHA",
        "outputId": "b5fa1bfd-7a20-4f3a-f525-6c095b30953a"
      },
      "outputs": [
        {
          "output_type": "stream",
          "name": "stdout",
          "text": [
            "Gabriel Aaron B. Cruz\n",
            "2210004155\n",
            "20\n",
            "Our Lady Fatima University\n",
            "Bachelor in Science Computer Science\n"
          ]
        }
      ],
      "source": [
        "#Problem No. 2\n",
        "Name = \"Gabriel Aaron B. Cruz\"\n",
        "Student_No = 2210004155\n",
        "Age = 20\n",
        "School = \"Our Lady Fatima University\"\n",
        "Course = \"Bachelor in Science Computer Science\"\n",
        "\n",
        "class Student:\n",
        "  def __init__(self,Name, Student_No, Age,School,Course):\n",
        "    self.Name = Name\n",
        "    self.Student_No = Student_No\n",
        "    self.Age = Age\n",
        "    self.School = School\n",
        "    self.Course = Course\n",
        "\n",
        "  def info(self):\n",
        "    print(\"\"+self.Name)\n",
        "    print(self.Student_No)\n",
        "    print(self.Age)\n",
        "    print(\"\"+self.School)\n",
        "    print(\"\"+self.Course)\n",
        "\n",
        "Myself = Student(Name,Student_No,Age,School,Course)\n",
        "\n",
        "Myself.info() \n"
      ]
    }
  ]
}