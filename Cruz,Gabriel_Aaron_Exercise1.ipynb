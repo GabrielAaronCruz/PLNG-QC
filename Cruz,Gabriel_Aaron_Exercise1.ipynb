{
  "nbformat": 4,
  "nbformat_minor": 0,
  "metadata": {
    "colab": {
      "provenance": [],
      "authorship_tag": "ABX9TyNgn2ycwdauMcoLH3JwnWix",
      "include_colab_link": true
    },
    "kernelspec": {
      "name": "python3",
      "display_name": "Python 3"
    },
    "language_info": {
      "name": "python"
    }
  },
  "cells": [
    {
      "cell_type": "markdown",
      "metadata": {
        "id": "view-in-github",
        "colab_type": "text"
      },
      "source": [
        "<a href=\"https://colab.research.google.com/github/GabrielAaronCruz/PLNG-QC/blob/main/Cruz%2CGabriel_Aaron_Exercise1.ipynb\" target=\"_parent\"><img src=\"https://colab.research.google.com/assets/colab-badge.svg\" alt=\"Open In Colab\"/></a>"
      ]
    },
    {
      "cell_type": "code",
      "execution_count": 2,
      "metadata": {
        "colab": {
          "base_uri": "https://localhost:8080/"
        },
        "id": "EFSTJiRSBL41",
        "outputId": "25e00308-ff6e-4a37-8ada-7155b87c6c3d"
      },
      "outputs": [
        {
          "output_type": "execute_result",
          "data": {
            "text/plain": [
              "186"
            ]
          },
          "metadata": {},
          "execution_count": 2
        }
      ],
      "source": [
        "testScores = [26,49,98,87,62,75]\n",
        "result = 0\n",
        "for item in testScores:\n",
        "  if not item%2:\n",
        "    result += item\n",
        "result"
      ]
    }
  ]
}