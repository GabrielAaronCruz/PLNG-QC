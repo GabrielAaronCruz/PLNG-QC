{
  "nbformat": 4,
  "nbformat_minor": 0,
  "metadata": {
    "colab": {
      "provenance": [],
      "authorship_tag": "ABX9TyNk+49JiZLBDHFtLKWgyzSN",
      "include_colab_link": true
    },
    "kernelspec": {
      "name": "python3",
      "display_name": "Python 3"
    },
    "language_info": {
      "name": "python"
    }
  },
  "cells": [
    {
      "cell_type": "markdown",
      "metadata": {
        "id": "view-in-github",
        "colab_type": "text"
      },
      "source": [
        "<a href=\"https://colab.research.google.com/github/GabrielAaronCruz/PLNG-QC/blob/main/Loop_Statement.ipynb\" target=\"_parent\"><img src=\"https://colab.research.google.com/assets/colab-badge.svg\" alt=\"Open In Colab\"/></a>"
      ]
    },
    {
      "cell_type": "markdown",
      "source": [
        "**Break Statement**"
      ],
      "metadata": {
        "id": "D2q7gQoKLUeg"
      }
    },
    {
      "cell_type": "code",
      "execution_count": 4,
      "metadata": {
        "colab": {
          "base_uri": "https://localhost:8080/"
        },
        "id": "M-hJBXndLC22",
        "outputId": "c6d856d1-3560-458e-99ef-98aca3c1c069"
      },
      "outputs": [
        {
          "output_type": "stream",
          "name": "stdout",
          "text": [
            "1\n",
            "2\n",
            "3\n"
          ]
        }
      ],
      "source": [
        "i = 1\n",
        "while i<6:\n",
        "  print(i)\n",
        "  if i==3:\n",
        "    break\n",
        "  i+=1      #increment, i = i +1"
      ]
    },
    {
      "cell_type": "markdown",
      "source": [
        "**Break Statement (Application 1)**"
      ],
      "metadata": {
        "id": "hkUdl5q1Lu__"
      }
    },
    {
      "cell_type": "code",
      "source": [
        "#Break Statement Application 1\n",
        "#Display only 3 after using break statement\n",
        "i=1\n",
        "while i<6:\n",
        "  if i==3:\n",
        "    print(i)\n",
        "    break\n",
        "  i+=1"
      ],
      "metadata": {
        "colab": {
          "base_uri": "https://localhost:8080/"
        },
        "id": "-QIVAqHTLzom",
        "outputId": "66b43fc7-0c8a-4ff6-f2c5-3780b5debea9"
      },
      "execution_count": 5,
      "outputs": [
        {
          "output_type": "stream",
          "name": "stdout",
          "text": [
            "3\n"
          ]
        }
      ]
    },
    {
      "cell_type": "markdown",
      "source": [
        "**Continue Statement**"
      ],
      "metadata": {
        "id": "f0WcKjX1MRtf"
      }
    },
    {
      "cell_type": "code",
      "source": [
        "i = 0\n",
        "while i<6:\n",
        "  i+=1\n",
        "  if i==3:\n",
        "    continue\n",
        "  print(i)"
      ],
      "metadata": {
        "colab": {
          "base_uri": "https://localhost:8080/"
        },
        "id": "2-8WePm-MUDm",
        "outputId": "94548f29-ae0d-4f13-98cb-fcc3ffd39897"
      },
      "execution_count": 6,
      "outputs": [
        {
          "output_type": "stream",
          "name": "stdout",
          "text": [
            "1\n",
            "2\n",
            "4\n",
            "5\n",
            "6\n"
          ]
        }
      ]
    },
    {
      "cell_type": "markdown",
      "source": [
        "**Application 2**"
      ],
      "metadata": {
        "id": "hpQWZfoTMe3n"
      }
    },
    {
      "cell_type": "code",
      "source": [
        "#Application 2\n",
        "i=0\n",
        "while i<=10:\n",
        "  print(\"Hello\", i)\n",
        "  i+=1"
      ],
      "metadata": {
        "colab": {
          "base_uri": "https://localhost:8080/"
        },
        "id": "AJHGd_WSMrGv",
        "outputId": "710576da-31ab-494b-e020-12687ccf504c"
      },
      "execution_count": 8,
      "outputs": [
        {
          "output_type": "stream",
          "name": "stdout",
          "text": [
            "Hello 0\n",
            "Hello 1\n",
            "Hello 2\n",
            "Hello 3\n",
            "Hello 4\n",
            "Hello 5\n",
            "Hello 6\n",
            "Hello 7\n",
            "Hello 8\n",
            "Hello 9\n",
            "Hello 10\n"
          ]
        }
      ]
    },
    {
      "cell_type": "markdown",
      "source": [
        "**Application 3**"
      ],
      "metadata": {
        "id": "Q_fItonwNcCu"
      }
    },
    {
      "cell_type": "code",
      "source": [
        "#Application 3\n",
        "#Create a python program that displays integers less than 10 but not less than 3 {9,8,7,6,5,4,}\n",
        "for i in range (3,10):\n",
        "  print(i)"
      ],
      "metadata": {
        "colab": {
          "base_uri": "https://localhost:8080/"
        },
        "id": "OYiI7uI3Ndta",
        "outputId": "65f9bdaf-ffec-4cc7-9574-e644bca92516"
      },
      "execution_count": 9,
      "outputs": [
        {
          "output_type": "stream",
          "name": "stdout",
          "text": [
            "3\n",
            "4\n",
            "5\n",
            "6\n",
            "7\n",
            "8\n",
            "9\n"
          ]
        }
      ]
    },
    {
      "cell_type": "code",
      "source": [
        "#Application 3\n",
        "#Create a python program that displays integers less than 10 but not less than 3 {9,8,7,6,5,4,}\n",
        "for i in range (3,10):\n",
        "  print(i)\n",
        "\n",
        "i = 9\n",
        "while i<10 and i<=3:\n",
        "  print(i)\n",
        "  i-=1"
      ],
      "metadata": {
        "colab": {
          "base_uri": "https://localhost:8080/"
        },
        "id": "2KPdv1BeNyp-",
        "outputId": "dcd5e708-c05d-48ff-9a1f-acb9f797f555"
      },
      "execution_count": 13,
      "outputs": [
        {
          "output_type": "stream",
          "name": "stdout",
          "text": [
            "3\n",
            "4\n",
            "5\n",
            "6\n",
            "7\n",
            "8\n",
            "9\n"
          ]
        }
      ]
    },
    {
      "cell_type": "code",
      "source": [
        "#Application 3\n",
        "#Create a python program that displays integers less than 10 but not less than 3 {9,8,7,6,5,4,}\n",
        "#for i in range (3,10):\n",
        "  #print(i)\n",
        "\n",
        "i = 9\n",
        "while i<10 and i>=3:\n",
        "  print(i)\n",
        "  i-=1"
      ],
      "metadata": {
        "colab": {
          "base_uri": "https://localhost:8080/"
        },
        "id": "NXfyfd1vOhs-",
        "outputId": "4ac04feb-bf74-4879-b665-5a1500efb233"
      },
      "execution_count": 15,
      "outputs": [
        {
          "output_type": "stream",
          "name": "stdout",
          "text": [
            "9\n",
            "8\n",
            "7\n",
            "6\n",
            "5\n",
            "4\n",
            "3\n"
          ]
        }
      ]
    }
  ]
}