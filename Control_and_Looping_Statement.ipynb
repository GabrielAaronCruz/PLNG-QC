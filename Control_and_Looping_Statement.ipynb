{
  "nbformat": 4,
  "nbformat_minor": 0,
  "metadata": {
    "colab": {
      "provenance": [],
      "collapsed_sections": [],
      "authorship_tag": "ABX9TyOAZ1O4sOC1AHhhxlhfbdua",
      "include_colab_link": true
    },
    "kernelspec": {
      "name": "python3",
      "display_name": "Python 3"
    },
    "language_info": {
      "name": "python"
    }
  },
  "cells": [
    {
      "cell_type": "markdown",
      "metadata": {
        "id": "view-in-github",
        "colab_type": "text"
      },
      "source": [
        "<a href=\"https://colab.research.google.com/github/GabrielAaronCruz/PLNG-QC/blob/main/Control_and_Looping_Statement.ipynb\" target=\"_parent\"><img src=\"https://colab.research.google.com/assets/colab-badge.svg\" alt=\"Open In Colab\"/></a>"
      ]
    },
    {
      "cell_type": "markdown",
      "source": [
        "**Activities (Week No. 7)**"
      ],
      "metadata": {
        "id": "FFeA5Y0_sbzC"
      }
    },
    {
      "cell_type": "code",
      "execution_count": 46,
      "metadata": {
        "colab": {
          "base_uri": "https://localhost:8080/"
        },
        "id": "HLUgp7frAUdm",
        "outputId": "4b35a7a5-1bac-4a50-accc-67b3cd94c9de"
      },
      "outputs": [
        {
          "output_type": "stream",
          "name": "stdout",
          "text": [
            "The individual is NOT qualified to vote\n"
          ]
        }
      ],
      "source": [
        "#Write a program that determines if the input age is qualified to vote or not.\n",
        "#The qualifying age is 18 years old and above.\n",
        "age = 12\n",
        "if age > 18:\n",
        "  print(\"The individual's age is 18 y/o is qualified to vote\")\n",
        "else:\n",
        "  print(\"The individual is NOT qualified to vote\")"
      ]
    },
    {
      "cell_type": "code",
      "source": [
        "#Write a program that determines if the input is POSITIVE, NEGATIVE, or ZERO.\n",
        "num = -15\n",
        "if num > 0:\n",
        "  print(\"Positive\")\n",
        "elif num == 0:\n",
        "  print(\"Zero\")\n",
        "else:\n",
        "  print(\"Negative\")"
      ],
      "metadata": {
        "colab": {
          "base_uri": "https://localhost:8080/"
        },
        "id": "IMnt8JGQrKjY",
        "outputId": "139fb596-1a83-47dd-d6a7-1506e56776d8"
      },
      "execution_count": 52,
      "outputs": [
        {
          "output_type": "stream",
          "name": "stdout",
          "text": [
            "Negative\n"
          ]
        }
      ]
    },
    {
      "cell_type": "markdown",
      "source": [
        "**If Statement**"
      ],
      "metadata": {
        "id": "6mJmUk2TdWYR"
      }
    },
    {
      "cell_type": "code",
      "source": [
        "#If Statement\n",
        "a = 12\n",
        "b = 100\n",
        "if a < b:\n",
        "  print(\"a is less than b\")"
      ],
      "metadata": {
        "colab": {
          "base_uri": "https://localhost:8080/"
        },
        "id": "LETA0UIJAeHd",
        "outputId": "b670d29a-17b5-4ea5-8dae-7999b3815e1d"
      },
      "execution_count": 2,
      "outputs": [
        {
          "output_type": "stream",
          "name": "stdout",
          "text": [
            "a is less than b\n"
          ]
        }
      ]
    },
    {
      "cell_type": "code",
      "source": [
        "#Elif Statement\n",
        "if a < b:\n",
        "  print('a is less than b')\n",
        "elif a > b:\n",
        "  print(\"a is greater than b\")"
      ],
      "metadata": {
        "colab": {
          "base_uri": "https://localhost:8080/"
        },
        "id": "TYQZO9r8f1pv",
        "outputId": "98d4f8b7-3463-4a62-af1d-915ed45bb449"
      },
      "execution_count": 8,
      "outputs": [
        {
          "output_type": "stream",
          "name": "stdout",
          "text": [
            "a is less than b\n"
          ]
        }
      ]
    },
    {
      "cell_type": "code",
      "source": [
        "#Elif Statement\n",
        "if a < b:\n",
        "  print(\"a is less than b\")\n",
        "elif a > b:\n",
        "  print(\"a is greater than b\")\n",
        "else:\n",
        "  print(\"a is equal to b\")"
      ],
      "metadata": {
        "colab": {
          "base_uri": "https://localhost:8080/"
        },
        "id": "WYdnJRXvgLTv",
        "outputId": "3613e650-7b0e-4dd9-f466-c7cb5fe5073e"
      },
      "execution_count": 11,
      "outputs": [
        {
          "output_type": "stream",
          "name": "stdout",
          "text": [
            "a is less than b\n"
          ]
        }
      ]
    },
    {
      "cell_type": "markdown",
      "source": [
        "**Short Hand If Statement**"
      ],
      "metadata": {
        "id": "8MdDwbvogJCe"
      }
    },
    {
      "cell_type": "code",
      "source": [
        "#Short Hand If Statement\n",
        "c = 10\n",
        "d = 5\n",
        "if c > d: \n",
        "  print(\"c>d\")"
      ],
      "metadata": {
        "colab": {
          "base_uri": "https://localhost:8080/"
        },
        "id": "EtyarOUJgrIP",
        "outputId": "1b034705-fbc0-4195-9ccb-e2674ecc03c1"
      },
      "execution_count": 13,
      "outputs": [
        {
          "output_type": "stream",
          "name": "stdout",
          "text": [
            "c>d\n"
          ]
        }
      ]
    },
    {
      "cell_type": "code",
      "source": [
        "#Short Hand If... Else Statement\n",
        "print('c>d') if c>d else print('d>c')"
      ],
      "metadata": {
        "colab": {
          "base_uri": "https://localhost:8080/"
        },
        "id": "x6_D7zhbhsQH",
        "outputId": "e1eeb730-f67b-41b3-e5e0-5db0d660df33"
      },
      "execution_count": 20,
      "outputs": [
        {
          "output_type": "stream",
          "name": "stdout",
          "text": [
            "c>d\n"
          ]
        }
      ]
    },
    {
      "cell_type": "markdown",
      "source": [
        "**And Statement**"
      ],
      "metadata": {
        "id": "Gnqu6j8lhFCO"
      }
    },
    {
      "cell_type": "code",
      "source": [
        "#And Statement\n",
        "if 5 > 10 and 8 > 4:\n",
        "  print(\"both statement are true\")\n",
        "else:\n",
        "  print(\"one of the statements is false /both statement are not true\")"
      ],
      "metadata": {
        "colab": {
          "base_uri": "https://localhost:8080/"
        },
        "id": "jvWSosR_hCI6",
        "outputId": "ff683d58-96cc-4016-9a3f-160e74ed641f"
      },
      "execution_count": 21,
      "outputs": [
        {
          "output_type": "stream",
          "name": "stdout",
          "text": [
            "one of the statements is false /both statement are not true\n"
          ]
        }
      ]
    },
    {
      "cell_type": "markdown",
      "source": [
        "**Or Statement**"
      ],
      "metadata": {
        "id": "ks-bcZTRiteY"
      }
    },
    {
      "cell_type": "code",
      "source": [
        "#Or Statement\n",
        "if 5 > 10 or 4 > 8:\n",
        "  print(\"True\")\n",
        "else:\n",
        "  print(\"False\")"
      ],
      "metadata": {
        "colab": {
          "base_uri": "https://localhost:8080/"
        },
        "id": "6lb1N4Oaix8v",
        "outputId": "93d3728d-df7b-46a4-b1c0-d25b47610466"
      },
      "execution_count": 24,
      "outputs": [
        {
          "output_type": "stream",
          "name": "stdout",
          "text": [
            "False\n"
          ]
        }
      ]
    },
    {
      "cell_type": "markdown",
      "source": [
        "**Bitwise operator**"
      ],
      "metadata": {
        "id": "-jp4dp9xkBI1"
      }
    },
    {
      "cell_type": "code",
      "source": [
        "#Bitwise operator ^ (XOR)\n",
        "e = 4 #0100 in binary\n",
        "f = 2 #0010 in binary\n",
        "e ^ f"
      ],
      "metadata": {
        "colab": {
          "base_uri": "https://localhost:8080/"
        },
        "id": "TMvzPOirkEPw",
        "outputId": "bf5d5594-224c-4609-c6b0-9e1cc04a8935"
      },
      "execution_count": 25,
      "outputs": [
        {
          "output_type": "execute_result",
          "data": {
            "text/plain": [
              "6"
            ]
          },
          "metadata": {},
          "execution_count": 25
        }
      ]
    },
    {
      "cell_type": "markdown",
      "source": [
        "**Nested If Statement**"
      ],
      "metadata": {
        "id": "H94abQE3kWQE"
      }
    },
    {
      "cell_type": "code",
      "source": [
        "#Nested If Statement\n",
        "x = 41\n",
        "if x > 10:\n",
        "  print(\"Number is above 10\")\n",
        "  if x > 20:\n",
        "    print(\"Number is above 20\")\n",
        "    if x > 30:\n",
        "      print(\"Number is above 30\")\n",
        "      if x > 40:\n",
        "        print(\"Number is above 40\")\n",
        "        if x > 50:\n",
        "          print(\"Number is above 50\")\n",
        "        else:\n",
        "           print(\"Number is less than 50\")\n",
        "      else:\n",
        "        print(\"Number is less than 40\") "
      ],
      "metadata": {
        "colab": {
          "base_uri": "https://localhost:8080/"
        },
        "id": "zMu2ffvOl7v0",
        "outputId": "fb5b1ef6-c764-49c8-984a-6d322ae312ed"
      },
      "execution_count": 27,
      "outputs": [
        {
          "output_type": "stream",
          "name": "stdout",
          "text": [
            "Number is above 10\n",
            "Number is above 20\n",
            "Number is above 30\n",
            "Number is above 40\n",
            "Number is less than 50\n"
          ]
        }
      ]
    },
    {
      "cell_type": "code",
      "source": [
        "#Nested If Statement\n",
        "x = 39\n",
        "if x > 10:\n",
        "  print(\"Number is above 10\")\n",
        "  if x > 20:\n",
        "    print(\"Number is above 20\")\n",
        "    if x > 30:\n",
        "      print(\"Number is above 30\")\n",
        "      if x > 40:\n",
        "        print(\"Number is above 40\")\n",
        "        if x > 50:\n",
        "          print(\"Number is above 50\")\n",
        "        else:\n",
        "           print(\"Number is less than 50\")\n",
        "      else:\n",
        "        print(\"Number is less than 40\") "
      ],
      "metadata": {
        "colab": {
          "base_uri": "https://localhost:8080/"
        },
        "id": "TkDjMwf2oahU",
        "outputId": "76d89f4a-2c87-445e-98a1-3ef408660a22"
      },
      "execution_count": 28,
      "outputs": [
        {
          "output_type": "stream",
          "name": "stdout",
          "text": [
            "Number is above 10\n",
            "Number is above 20\n",
            "Number is above 30\n",
            "Number is less than 40\n"
          ]
        }
      ]
    },
    {
      "cell_type": "markdown",
      "source": [
        "**For Loop Statement**"
      ],
      "metadata": {
        "id": "-dsRYSlmojwj"
      }
    },
    {
      "cell_type": "code",
      "source": [
        "#For Loop Statement\n",
        "week = [\"Sunday\", \"Monday\", \"Tuesday\", \"Wednesday\", \"Thursday\", \"Friday\", \"Saturday\"]\n",
        "for y in week:\n",
        "  print(y)"
      ],
      "metadata": {
        "colab": {
          "base_uri": "https://localhost:8080/"
        },
        "id": "y4ql8Yr5ooTU",
        "outputId": "89ab71c3-6c52-4b07-a318-e8eea006096a"
      },
      "execution_count": 30,
      "outputs": [
        {
          "output_type": "stream",
          "name": "stdout",
          "text": [
            "Sunday\n",
            "Monday\n",
            "Tuesday\n",
            "Wednesday\n",
            "Thursday\n",
            "Friday\n",
            "Saturday\n"
          ]
        }
      ]
    },
    {
      "cell_type": "code",
      "source": [
        "#For Loop Statement\n",
        "week = [\"Sunday\", \"Monday\", \"Tuesday\", \"Wednesday\", \"Thursday\", \"Friday\", \"Saturday\"]\n",
        "for y in week:\n",
        "  print(y)\n",
        "  if y == \"Thursday\":\n",
        "    break"
      ],
      "metadata": {
        "colab": {
          "base_uri": "https://localhost:8080/"
        },
        "id": "58Saa1WlpA_U",
        "outputId": "416c8153-9f90-402c-b8fe-2215625a4788"
      },
      "execution_count": 33,
      "outputs": [
        {
          "output_type": "stream",
          "name": "stdout",
          "text": [
            "Sunday\n",
            "Monday\n",
            "Tuesday\n",
            "Wednesday\n",
            "Thursday\n"
          ]
        }
      ]
    },
    {
      "cell_type": "code",
      "source": [
        "#For Loop Statement\n",
        "week = [\"Sunday\", \"Monday\", \"Tuesday\", \"Wednesday\", \"Thursday\", \"Friday\", \"Saturday\"]\n",
        "for y in week:\n",
        "  if y == \"Thursday\":\n",
        "    break\n",
        "  print(y)"
      ],
      "metadata": {
        "colab": {
          "base_uri": "https://localhost:8080/"
        },
        "id": "9ihHT3PwpNPb",
        "outputId": "40ebd7b8-7d73-474d-98ab-a34279be0090"
      },
      "execution_count": 34,
      "outputs": [
        {
          "output_type": "stream",
          "name": "stdout",
          "text": [
            "Sunday\n",
            "Monday\n",
            "Tuesday\n",
            "Wednesday\n"
          ]
        }
      ]
    },
    {
      "cell_type": "markdown",
      "source": [
        "**Range () Function**"
      ],
      "metadata": {
        "id": "H8yvKupfpZTS"
      }
    },
    {
      "cell_type": "code",
      "source": [
        "#Range () Function\n",
        "for x in range(2,6):\n",
        "  print(x)"
      ],
      "metadata": {
        "colab": {
          "base_uri": "https://localhost:8080/"
        },
        "id": "_WhJmiuJpY0d",
        "outputId": "4966cfc7-2d31-4552-d12a-c863a31faab2"
      },
      "execution_count": 35,
      "outputs": [
        {
          "output_type": "stream",
          "name": "stdout",
          "text": [
            "2\n",
            "3\n",
            "4\n",
            "5\n"
          ]
        }
      ]
    },
    {
      "cell_type": "code",
      "source": [
        "#Range () Function\n",
        "for x in range(2,6,2):\n",
        "  print(x)"
      ],
      "metadata": {
        "colab": {
          "base_uri": "https://localhost:8080/"
        },
        "id": "lyBsNDcBpmEV",
        "outputId": "7b6651c2-9840-4060-99ce-35669a980660"
      },
      "execution_count": 36,
      "outputs": [
        {
          "output_type": "stream",
          "name": "stdout",
          "text": [
            "2\n",
            "4\n"
          ]
        }
      ]
    },
    {
      "cell_type": "code",
      "source": [
        "adjective = [\"red\", \"big\", \"tasty\"]\n",
        "fruits = [\"apple\", \"banana\", \"cherry\"]\n",
        "for x in adjective:\n",
        "  for y in fruits:\n",
        "    print(x,y)"
      ],
      "metadata": {
        "colab": {
          "base_uri": "https://localhost:8080/"
        },
        "id": "uQwBlpe-pqBt",
        "outputId": "e74fb24b-7b3d-4abe-dab0-edcf7c68c135"
      },
      "execution_count": 37,
      "outputs": [
        {
          "output_type": "stream",
          "name": "stdout",
          "text": [
            "red apple\n",
            "red banana\n",
            "red cherry\n",
            "big apple\n",
            "big banana\n",
            "big cherry\n",
            "tasty apple\n",
            "tasty banana\n",
            "tasty cherry\n"
          ]
        }
      ]
    },
    {
      "cell_type": "code",
      "source": [
        "i = 1\n",
        "while i <= 6:\n",
        "  print(i)\n",
        "  if i == 3:\n",
        "    break\n",
        "  i += 1"
      ],
      "metadata": {
        "colab": {
          "base_uri": "https://localhost:8080/"
        },
        "id": "N0ggitLRqM-c",
        "outputId": "1e0581b0-bedb-4ec1-fad0-383cf200d554"
      },
      "execution_count": 41,
      "outputs": [
        {
          "output_type": "stream",
          "name": "stdout",
          "text": [
            "1\n",
            "2\n",
            "3\n"
          ]
        }
      ]
    }
  ]
}