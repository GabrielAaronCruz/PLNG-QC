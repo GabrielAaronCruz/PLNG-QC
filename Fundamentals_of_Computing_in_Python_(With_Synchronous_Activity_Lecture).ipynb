{
  "nbformat": 4,
  "nbformat_minor": 0,
  "metadata": {
    "colab": {
      "provenance": [],
      "authorship_tag": "ABX9TyOcMSel+IEJ4wymkxBWHQRJ",
      "include_colab_link": true
    },
    "kernelspec": {
      "name": "python3",
      "display_name": "Python 3"
    },
    "language_info": {
      "name": "python"
    }
  },
  "cells": [
    {
      "cell_type": "markdown",
      "metadata": {
        "id": "view-in-github",
        "colab_type": "text"
      },
      "source": [
        "<a href=\"https://colab.research.google.com/github/GabrielAaronCruz/PLNG-QC/blob/main/Fundamentals_of_Computing_in_Python_(With_Synchronous_Activity_Lecture).ipynb\" target=\"_parent\"><img src=\"https://colab.research.google.com/assets/colab-badge.svg\" alt=\"Open In Colab\"/></a>"
      ]
    },
    {
      "cell_type": "markdown",
      "source": [
        "**Variables and Data Types**"
      ],
      "metadata": {
        "id": "dhjxK2b958me"
      }
    },
    {
      "cell_type": "markdown",
      "source": [
        "**Numbers**"
      ],
      "metadata": {
        "id": "toMogWu-6VS9"
      }
    },
    {
      "cell_type": "code",
      "source": [
        "varNum = 123\n",
        "pi = 3.14159"
      ],
      "metadata": {
        "id": "lGYSpcDo6y_1"
      },
      "execution_count": 7,
      "outputs": []
    },
    {
      "cell_type": "markdown",
      "source": [
        "**String**"
      ],
      "metadata": {
        "id": "V-HWAyYk6-_F"
      }
    },
    {
      "cell_type": "code",
      "source": [
        "varString = \"Hello World!\"\n",
        "varText = 'This is a Strong'"
      ],
      "metadata": {
        "id": "CxzIaXRH7A6c"
      },
      "execution_count": 5,
      "outputs": []
    },
    {
      "cell_type": "markdown",
      "source": [
        "**Lists**"
      ],
      "metadata": {
        "id": "_nz9Uzw_7QS1"
      }
    },
    {
      "cell_type": "code",
      "source": [
        "varList = [\"abc\", 123]"
      ],
      "metadata": {
        "id": "-uS85-rO7A-D"
      },
      "execution_count": 6,
      "outputs": []
    },
    {
      "cell_type": "markdown",
      "source": [
        "**Tuples**"
      ],
      "metadata": {
        "id": "66oKbGI39_6t"
      }
    },
    {
      "cell_type": "code",
      "source": [
        "varTuple = ('abc, 123, \"Hello\" ')"
      ],
      "metadata": {
        "id": "JEfo0fKX-BJN"
      },
      "execution_count": 8,
      "outputs": []
    },
    {
      "cell_type": "markdown",
      "source": [
        "**Asynchronous Activity**"
      ],
      "metadata": {
        "id": "kDqJAbdkAUpc"
      }
    },
    {
      "cell_type": "code",
      "source": [
        "for var in range(0,5,2):\n",
        "    print(var)"
      ],
      "metadata": {
        "colab": {
          "base_uri": "https://localhost:8080/"
        },
        "outputId": "cc1f6a81-0ab9-4146-9aa3-ea413891f610",
        "id": "O2tLt9zvAD5z"
      },
      "execution_count": 10,
      "outputs": [
        {
          "output_type": "stream",
          "name": "stdout",
          "text": [
            "0\n",
            "2\n",
            "4\n"
          ]
        }
      ]
    },
    {
      "cell_type": "code",
      "source": [
        "for var in range(0,5+1):\n",
        "    print(var)"
      ],
      "metadata": {
        "colab": {
          "base_uri": "https://localhost:8080/"
        },
        "id": "9UG07nXo_y6c",
        "outputId": "d08f78bd-f589-45ce-97b8-51ec8d8ad5f9"
      },
      "execution_count": 9,
      "outputs": [
        {
          "output_type": "stream",
          "name": "stdout",
          "text": [
            "0\n",
            "1\n",
            "2\n",
            "3\n",
            "4\n",
            "5\n"
          ]
        }
      ]
    },
    {
      "cell_type": "code",
      "source": [
        "for var in range(5):\n",
        "    print(var)"
      ],
      "metadata": {
        "colab": {
          "base_uri": "https://localhost:8080/"
        },
        "outputId": "d93a0d4f-f900-4aff-c753-12706175411d",
        "id": "XBtB-4swANMv"
      },
      "execution_count": 11,
      "outputs": [
        {
          "output_type": "stream",
          "name": "stdout",
          "text": [
            "0\n",
            "1\n",
            "2\n",
            "3\n",
            "4\n"
          ]
        }
      ]
    }
  ]
}