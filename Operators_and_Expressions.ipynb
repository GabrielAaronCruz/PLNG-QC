{
  "nbformat": 4,
  "nbformat_minor": 0,
  "metadata": {
    "colab": {
      "provenance": [],
      "authorship_tag": "ABX9TyMov8m40jruZCy7THtTwIQe",
      "include_colab_link": true
    },
    "kernelspec": {
      "name": "python3",
      "display_name": "Python 3"
    },
    "language_info": {
      "name": "python"
    }
  },
  "cells": [
    {
      "cell_type": "markdown",
      "metadata": {
        "id": "view-in-github",
        "colab_type": "text"
      },
      "source": [
        "<a href=\"https://colab.research.google.com/github/GabrielAaronCruz/PLNG-QC/blob/main/Operators_and_Expressions.ipynb\" target=\"_parent\"><img src=\"https://colab.research.google.com/assets/colab-badge.svg\" alt=\"Open In Colab\"/></a>"
      ]
    },
    {
      "cell_type": "markdown",
      "source": [
        "**Boolean Operators**"
      ],
      "metadata": {
        "id": "ghcJUhn_sUrd"
      }
    },
    {
      "cell_type": "code",
      "source": [
        "a=10\n",
        "b=9\n",
        "print(10>9)\n",
        "print(10<9)\n",
        "print(10==9)\n",
        "print(a!=b)"
      ],
      "metadata": {
        "id": "ayS8Qh8dpe51",
        "colab": {
          "base_uri": "https://localhost:8080/"
        },
        "outputId": "38968524-cc8b-4af6-f07b-66881ba3da0a"
      },
      "execution_count": 2,
      "outputs": [
        {
          "output_type": "stream",
          "name": "stdout",
          "text": [
            "True\n",
            "False\n",
            "False\n",
            "True\n"
          ]
        }
      ]
    },
    {
      "cell_type": "markdown",
      "source": [
        "**Python Operators**"
      ],
      "metadata": {
        "id": "Lh66dyGUMK1s"
      }
    },
    {
      "cell_type": "code",
      "source": [
        "print(10+9) #addition\n",
        "print(10-9) #substraction\n",
        "print(10*9) #multiplication\n",
        "print(10/5) #division\n",
        "10//3       #floor division 10/3=3.33 remainder 1\n",
        "print(10%3)\n",
        "print(10**2)"
      ],
      "metadata": {
        "colab": {
          "base_uri": "https://localhost:8080/"
        },
        "id": "6lpc-c6AMTEl",
        "outputId": "522c16a6-ce5c-4533-f7bf-a6a0e084a836"
      },
      "execution_count": 4,
      "outputs": [
        {
          "output_type": "stream",
          "name": "stdout",
          "text": [
            "19\n",
            "1\n",
            "90\n",
            "2.0\n",
            "1\n",
            "100\n"
          ]
        }
      ]
    },
    {
      "cell_type": "markdown",
      "source": [
        "**Application 1**"
      ],
      "metadata": {
        "id": "rOv4Mdx8NExt"
      }
    },
    {
      "cell_type": "code",
      "source": [
        "c=6 #110 binary\n",
        "d=7 #111 binary\n",
        "print(c==d)\n",
        "print(c!=c)"
      ],
      "metadata": {
        "colab": {
          "base_uri": "https://localhost:8080/"
        },
        "id": "YRMu9OPFnJUg",
        "outputId": "74e1329a-30ae-46c3-a481-65faf34e895b"
      },
      "execution_count": null,
      "outputs": [
        {
          "output_type": "stream",
          "name": "stdout",
          "text": [
            "False\n",
            "False\n"
          ]
        }
      ]
    },
    {
      "cell_type": "markdown",
      "source": [
        "**Python Assignment Operator**"
      ],
      "metadata": {
        "id": "Bi60JF0uOBU8"
      }
    },
    {
      "cell_type": "code",
      "source": [
        "x=4\n",
        "x+=3  #x=x+3, x=4+3=7\n",
        "print(\"x =\",x)"
      ],
      "metadata": {
        "colab": {
          "base_uri": "https://localhost:8080/"
        },
        "id": "2IYyrOrSOh2t",
        "outputId": "7e8c10be-fca4-452b-8e8f-a3655b4de413"
      },
      "execution_count": 6,
      "outputs": [
        {
          "output_type": "stream",
          "name": "stdout",
          "text": [
            "x = 7\n"
          ]
        }
      ]
    },
    {
      "cell_type": "markdown",
      "source": [
        "**Identify Operators**"
      ],
      "metadata": {
        "id": "OZ2Xi3uXPIFs"
      }
    },
    {
      "cell_type": "code",
      "source": [
        "print(4 is 4)\n",
        "print(7 is not 7)\n",
        "print(6 is 5)"
      ],
      "metadata": {
        "colab": {
          "base_uri": "https://localhost:8080/"
        },
        "id": "7NjZOIVxPK88",
        "outputId": "636624c3-4bba-4121-e039-3b7699dbe18d"
      },
      "execution_count": 7,
      "outputs": [
        {
          "output_type": "stream",
          "name": "stdout",
          "text": [
            "True\n",
            "False\n",
            "False\n"
          ]
        }
      ]
    },
    {
      "cell_type": "markdown",
      "source": [
        "**Logical Operator**"
      ],
      "metadata": {
        "id": "Oz4z2KeiQZjT"
      }
    },
    {
      "cell_type": "code",
      "source": [
        "print((4>3) and (5!=5)) #and\n",
        "print((6==6) or (6!=6)) #or"
      ],
      "metadata": {
        "colab": {
          "base_uri": "https://localhost:8080/"
        },
        "id": "Y63_pMwTQbeY",
        "outputId": "6ec95d97-0906-41e1-cefe-78939c199e2f"
      },
      "execution_count": 9,
      "outputs": [
        {
          "output_type": "stream",
          "name": "stdout",
          "text": [
            "False\n",
            "True\n"
          ]
        }
      ]
    }
  ]
}