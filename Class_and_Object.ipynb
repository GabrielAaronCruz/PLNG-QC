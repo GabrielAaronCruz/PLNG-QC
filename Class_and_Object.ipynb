{
  "nbformat": 4,
  "nbformat_minor": 0,
  "metadata": {
    "colab": {
      "provenance": [],
      "authorship_tag": "ABX9TyNsRWP+lOU2UcIVRYzmMKo+",
      "include_colab_link": true
    },
    "kernelspec": {
      "name": "python3",
      "display_name": "Python 3"
    },
    "language_info": {
      "name": "python"
    }
  },
  "cells": [
    {
      "cell_type": "markdown",
      "metadata": {
        "id": "view-in-github",
        "colab_type": "text"
      },
      "source": [
        "<a href=\"https://colab.research.google.com/github/GabrielAaronCruz/PLNG-QC/blob/main/Class_and_Object.ipynb\" target=\"_parent\"><img src=\"https://colab.research.google.com/assets/colab-badge.svg\" alt=\"Open In Colab\"/></a>"
      ]
    },
    {
      "cell_type": "code",
      "source": [],
      "metadata": {
        "id": "oTxueRvbVLgK"
      },
      "execution_count": null,
      "outputs": []
    },
    {
      "cell_type": "code",
      "source": [
        "class Person:\n",
        "  def __init__(self,name,age):\n",
        "    self.name = name                #attributes\n",
        "    self.age = age\n",
        "\n",
        "  def Name(self,name):\n",
        "    return self.name\n",
        "\n",
        "person1 = Person(\"Ana\",36)         #instantiation/add a value to an attribute\n",
        "print(\"The name of the person is:\",person1.name)\n",
        "print(\"The age of the person is:\",person1.age)"
      ],
      "metadata": {
        "colab": {
          "base_uri": "https://localhost:8080/"
        },
        "id": "ayL8S1_yTqhD",
        "outputId": "8e3fa657-46ee-47e1-e835-9fdf57522b18"
      },
      "execution_count": 18,
      "outputs": [
        {
          "output_type": "stream",
          "name": "stdout",
          "text": [
            "The name of the person is: Ana\n",
            "The age of the person is: 36\n"
          ]
        }
      ]
    },
    {
      "cell_type": "code",
      "execution_count": 17,
      "metadata": {
        "colab": {
          "base_uri": "https://localhost:8080/"
        },
        "id": "hNBJ8OXqv2Rj",
        "outputId": "072139a2-7494-4c56-c756-7e3a4601ff2c"
      },
      "outputs": [
        {
          "output_type": "stream",
          "name": "stdout",
          "text": [
            "The name of the person is: Ana\n",
            "The age of the person is: 36\n",
            "\n",
            "The name of the student is: Lino\n",
            "The age of the student is: 32\n",
            "\n",
            "The name of the teacher is: Maria\n",
            "The age of the teacher is: 39\n"
          ]
        }
      ],
      "source": [
        "class Person:\n",
        "  def __init__(self,name,age):\n",
        "    self.name = name                 #attributes\n",
        "    self.age = age\n",
        "\n",
        "class Student(Person):               #Subclass that will inherit the parent class(?)\n",
        "  pass\n",
        "\n",
        "class Teacher(Person):\n",
        "  pass\n",
        "\n",
        "person1 = Person(\"Ana\",36)           #instantation, or behavior of the methods/add a value to an attribute\n",
        "print(\"The name of the person is:\",person1.name) \n",
        "print(\"The age of the person is:\",person1.age)\n",
        "\n",
        "person2 = Student(\"Lino\",32)         #inheritance\n",
        "print(\"\\nThe name of the student is:\",person2.name)\n",
        "print(\"The age of the student is:\",person2.age)\n",
        "\n",
        "person3 = Teacher(\"Maria\",39)\n",
        "print(\"\\nThe name of the teacher is:\",person3.name)\n",
        "print(\"The age of the teacher is:\",person3.age)"
      ]
    },
    {
      "cell_type": "code",
      "source": [
        "#Exercise No. 1\n",
        "#Application 1. Write a Rectangle class in Python language with length and width as attributes\n",
        "#Create a Perimeter () and Area () as methods to compute for the perimeter and area of a rectangle\n",
        "class Rectangle:\n",
        "\n",
        "  def __init__(self,length,width):\n",
        "    self.length = length\n",
        "    self.width = width\n",
        "\n",
        "  def compute_area(self):\n",
        "    return self.length * self.width\n",
        "\n",
        "  def compute_perimeter(self):\n",
        "    return 2 * (self.length+self.width)\n",
        "\n",
        "Length = float(input(\"Please Enter the Length of the Rectangle: \")) \n",
        "Width = float(input(\"Please Enter the Width of the Rectangle: \")) \n",
        "\n",
        "ShapeOne = Rectangle(Length, Width)\n",
        "\n",
        "area = ShapeOne.compute_area()\n",
        "perimeter = ShapeOne.compute_perimeter()\n",
        "\n",
        "print(\"Area of Rectangle = %.2f\" %area)\n",
        "print(\"Perimeter of Rectangle = %.2f\" %perimeter)"
      ],
      "metadata": {
        "colab": {
          "base_uri": "https://localhost:8080/"
        },
        "id": "Q5OWJdM5VlGX",
        "outputId": "04748725-649b-4ecd-8bdc-83d7c9d8191f"
      },
      "execution_count": 21,
      "outputs": [
        {
          "output_type": "stream",
          "name": "stdout",
          "text": [
            "Please Enter the Length of the Rectangle: 120\n",
            "Please Enter the Width of the Rectangle: 50\n",
            "Area of Rectangle = 6000.00\n",
            "Perimeter of Rectangle = 340.00\n"
          ]
        }
      ]
    }
  ]
}