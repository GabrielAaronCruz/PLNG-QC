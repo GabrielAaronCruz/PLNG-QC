{
  "nbformat": 4,
  "nbformat_minor": 0,
  "metadata": {
    "colab": {
      "provenance": [],
      "authorship_tag": "ABX9TyNqZGjE09aPzGOtl2ye6oYz",
      "include_colab_link": true
    },
    "kernelspec": {
      "name": "python3",
      "display_name": "Python 3"
    },
    "language_info": {
      "name": "python"
    }
  },
  "cells": [
    {
      "cell_type": "markdown",
      "metadata": {
        "id": "view-in-github",
        "colab_type": "text"
      },
      "source": [
        "<a href=\"https://colab.research.google.com/github/GabrielAaronCruz/PLNG-QC/blob/main/Laboratory_Activity_No_1_(FINALS).ipynb\" target=\"_parent\"><img src=\"https://colab.research.google.com/assets/colab-badge.svg\" alt=\"Open In Colab\"/></a>"
      ]
    },
    {
      "cell_type": "code",
      "execution_count": 4,
      "metadata": {
        "colab": {
          "base_uri": "https://localhost:8080/"
        },
        "id": "r1bFmQMkrX2N",
        "outputId": "52e9ffc4-716d-41f4-876d-63b306e0299f"
      },
      "outputs": [
        {
          "output_type": "stream",
          "name": "stdout",
          "text": [
            "45\n",
            "[0, 1, 2, 3, 4, 5, 6, 7, 8, 9, 10]\n",
            "[10, 0, 1, 2, 3, 4, 5, 6, 7, 8, 9, 10]\n",
            "[10, 9, 8, 7, 6, 5, 4, 3, 2, 1, 0, 10]\n",
            "12\n"
          ]
        }
      ],
      "source": [
        "#1.\tWrite a Python program to create an array of 10 integers and display the array items. \n",
        "#Access individual elements through indexes and compute for the sum.\n",
        "array = [0,1,2,3,4,5,6,7,8,9]\n",
        "arraySum = 0\n",
        "for x in array:\n",
        "    arraySum+=array[x]\n",
        "print(arraySum)\n",
        "\n",
        "#2.\tWrite a Python program to append a new item to the end of the array. \n",
        "#Original array: numbers = [1, 2, 3, 4, 5, 6, 7, 8, 9, 10]\n",
        "array.append(10)\n",
        "print(array)\n",
        "\n",
        "#3.\tWrite a Python program to insert a new item before the second element in an existing array. \n",
        "#Original array: numbers = [1, 2, 3, 4, 5, 6, 7, 8, 9, 10]\n",
        "array.insert(0,10)\n",
        "print(array)\n",
        "\n",
        "#4.\tWrite a Python program to reverse the order of the items in the array. \n",
        "#Original array: numbers = [5, 4, 3, 2, 1]\n",
        "array.reverse()\n",
        "print(array)\n",
        "\n",
        "#5.\tWrite a Python program to get the length of the array. \n",
        "#Original array: numbers = [5, 4, 3, 2, 1]\n",
        "length = 0\n",
        "for x in array:\n",
        "    length+=1\n",
        "print(length)"
      ]
    }
  ]
}